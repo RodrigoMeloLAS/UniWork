{
 "cells": [
  {
   "cell_type": "markdown",
   "id": "8e6be862",
   "metadata": {},
   "source": [
    "# MAC0460\n",
    "## Exercício 2 e 3 da lista 1: Implementação do algoritmo perceptron"
   ]
  },
  {
   "cell_type": "markdown",
   "id": "9cd6d24a",
   "metadata": {},
   "source": [
    "* Crição dos dados utilizados para o exemplo dado em aula (Aprovação de crédito).\n",
    "    \n",
    "  Como não foi especificado o tipo de dados a ser fornecido, representaremos o input (P e N) como uma lista vetores em numpy (ndarray).\n",
    "  \n",
    "  \n",
    "* Para este exemplo, utilizaremos 5 clientes com 5 tipos de dados. Os tipos de dados podem ser vistos como os exemplos dados no livro *Learning from Data*, como salário anual, anos na residencia atual, emprestimos consideráveis e etc."
   ]
  },
  {
   "cell_type": "markdown",
   "id": "85e96765",
   "metadata": {},
   "source": [
    "-------------------------------------------------------------------------------------------------------------------------------\n",
    "\n",
    "* Treshold será um float entre 1 e 3\n",
    "* Os atributos de cada cliente serão um inteiro entre 0 e 1\n",
    "* Os pesos de cada atributo serão um float entre -1 e 3\n",
    "\n",
    "-------------------------------------------------------------------------------------------------------------------------------\n",
    "## Caso 1: Dados separáveis linearmente"
   ]
  },
  {
   "cell_type": "code",
   "execution_count": 91,
   "id": "949a806e",
   "metadata": {},
   "outputs": [],
   "source": [
    "import numpy as np\n",
    "import random "
   ]
  },
  {
   "cell_type": "markdown",
   "id": "428a813f",
   "metadata": {},
   "source": [
    "* Gerando a lista de vetores que representará todos dados de todos os clientes:"
   ]
  },
  {
   "cell_type": "code",
   "execution_count": 92,
   "id": "d09bb3d4",
   "metadata": {},
   "outputs": [
    {
     "name": "stdout",
     "output_type": "stream",
     "text": [
      "Lista de atributos dos clientes:  [[0.86, 0.09, 0.39, 0.74, 0.28], [0.82, 0.19, 0.63, 0.08, 0.02], [0.96, 0.86, 0.8, 0.08, 0.24], [0.11, 0.1, 0.62, 0.81, 0.15], [0.19, 0.67, 0.58, 0.05, 0.69]]\n"
     ]
    }
   ],
   "source": [
    "X= []\n",
    "\n",
    "#Adicionando aleartóriamente os dados para cada cliente\n",
    "for i in range(5):\n",
    "    aux= []\n",
    "    for j in range(5):\n",
    "        int_aux= round(random.uniform(0,1),2)\n",
    "        aux.append(int_aux)\n",
    "    X.append(aux)    \n",
    "\n",
    "print(\"Lista de atributos dos clientes: \",X)"
   ]
  },
  {
   "cell_type": "markdown",
   "id": "050ec1d7",
   "metadata": {},
   "source": [
    "* Gerando o vetor de pesos alvo, ou seja,o vetor que deverá ser aproximado pelo algoritmo de aprendizado"
   ]
  },
  {
   "cell_type": "code",
   "execution_count": 93,
   "id": "71a3ab1d",
   "metadata": {},
   "outputs": [
    {
     "name": "stdout",
     "output_type": "stream",
     "text": [
      "Vetor peso alvo:  [1.82, 1.17, 1.39, 2.0, 1.88]\n"
     ]
    }
   ],
   "source": [
    "w = []\n",
    "\n",
    "for i in range(5):\n",
    "    int_aux= round(random.uniform(-1, 3), 2)\n",
    "    w.append(int_aux)\n",
    "    \n",
    "print(\"Vetor peso alvo: \",w)"
   ]
  },
  {
   "cell_type": "markdown",
   "id": "50c86f08",
   "metadata": {},
   "source": [
    "* Gerando o Treshold (ou b), ou seja, o valor que determina se a saída do cliente será -1 (caso a somatória seja < b) ou 1 (caso a somatória seja > b), além de classificar os clientes de acordo.\n",
    "* Para o intuito do exerício, calcularemos b a partir dos dados do cliente, afim de termos casos co ambos inputs)"
   ]
  },
  {
   "cell_type": "code",
   "execution_count": 94,
   "id": "9a73d7e1",
   "metadata": {},
   "outputs": [
    {
     "name": "stdout",
     "output_type": "stream",
     "text": [
      "Valor do treshold:  1.2558669867169292\n"
     ]
    }
   ],
   "source": [
    "b = random.uniform(1,3)\n",
    "\n",
    "print(\"Valor do treshold: \",b)\n",
    "   "
   ]
  },
  {
   "cell_type": "markdown",
   "id": "6756df55",
   "metadata": {},
   "source": [
    "* Agora, a implementação do perceptron"
   ]
  },
  {
   "cell_type": "code",
   "execution_count": 95,
   "id": "97077592",
   "metadata": {},
   "outputs": [],
   "source": [
    "def perceptron (X, w, b):\n",
    "    \n",
    "    #iniciar o vetor de pesos (w) com valores aleartórios    \n",
    "    w_2=[]\n",
    "    for i in range(5):\n",
    "        int_aux= round(random.uniform(0, 1), 2)\n",
    "        w_2.append(int_aux)\n",
    "    \n",
    "    #Convertemos a lista do vetor peso para arrays para facilitar as contas na hora de rodar o algoritmo\n",
    "    \n",
    "    w_3 = np.array(w_2)\n",
    "    \n",
    "    print(\"Vetor peso inicial: \",w_2)\n",
    "    \n",
    "    P = []\n",
    "    N = []\n",
    "    #Agora, vamos multiplicar os índices de cada linha do vetor X com o vetor peso alvo, e a somatória dessas multiplicações nos indicará se o cliente é aprovado por crédito ou recusado\n",
    "    X_tresholdline= []\n",
    "\n",
    "    for i in range(5):\n",
    "        X_tresholdline= np.dot(X[i],w).round(1)\n",
    "        \n",
    "        if X_tresholdline.sum() >= b:\n",
    "            P.append(X[i])\n",
    "        \n",
    "        else:\n",
    "            N.append(X[i])\n",
    "    \n",
    "    #Criaremos agora uma lista de erros que o nosso vetor peso produz. No momento que essa lista se torna vazia, o algoritmo obteve sucesso\n",
    "    mismatches= []\n",
    "        \n",
    "    mismatchCheck(P,N,w_3,b,mismatches)\n",
    "    \n",
    "    while mismatches != []:\n",
    "        #Seleciona um vetor pertencente aos mismatches de forma aleartória\n",
    "        y= random.randint(0, len(mismatches)-1)\n",
    "        if mismatches[y] in P:\n",
    "            w_3= w_3 + mismatches[y]\n",
    "\n",
    "        elif mismatches[y] in N:\n",
    "            w_3= w_3 - mismatches[y]\n",
    "            \n",
    "        mismatches=[]\n",
    "        mismatches = mismatchCheck(P,N,w_3,b,mismatches)\n",
    "        \n",
    "    \n",
    "    print(\"Vetor peso final :\",w_3)"
   ]
  },
  {
   "cell_type": "markdown",
   "id": "da6d9698",
   "metadata": {},
   "source": [
    "* Função auxiliar que procura mismatches"
   ]
  },
  {
   "cell_type": "code",
   "execution_count": 96,
   "id": "a1b7de33",
   "metadata": {},
   "outputs": [],
   "source": [
    "def mismatchCheck(P, N, w, b, mismatches):\n",
    "    \n",
    "    #Criaremos agora uma lista de erros que o nosso vetor peso produz. No momento que essa lista se torna vazia, o algoritmo obteve sucess        \n",
    "    for i in P:\n",
    "        if np.dot(i,w) <= b:\n",
    "            mismatches.append(i)\n",
    "            \n",
    "    for i in N:\n",
    "        if np.dot(i,w) > b:\n",
    "            mismatches.append(i) \n",
    "    return mismatches\n",
    "    "
   ]
  },
  {
   "cell_type": "code",
   "execution_count": 97,
   "id": "40e93b5d",
   "metadata": {},
   "outputs": [
    {
     "name": "stdout",
     "output_type": "stream",
     "text": [
      "Vetor peso inicial:  [0.86, 0.34, 0.57, 0.13, 0.87]\n",
      "Vetor peso final : [0.97 0.44 1.19 0.94 1.02]\n"
     ]
    }
   ],
   "source": [
    "perceptron(X,w,b)"
   ]
  },
  {
   "cell_type": "code",
   "execution_count": null,
   "id": "051353a2",
   "metadata": {},
   "outputs": [],
   "source": []
  },
  {
   "cell_type": "code",
   "execution_count": null,
   "id": "2600d893",
   "metadata": {},
   "outputs": [],
   "source": []
  }
 ],
 "metadata": {
  "kernelspec": {
   "display_name": "Python 3 (ipykernel)",
   "language": "python",
   "name": "python3"
  },
  "language_info": {
   "codemirror_mode": {
    "name": "ipython",
    "version": 3
   },
   "file_extension": ".py",
   "mimetype": "text/x-python",
   "name": "python",
   "nbconvert_exporter": "python",
   "pygments_lexer": "ipython3",
   "version": "3.9.7"
  }
 },
 "nbformat": 4,
 "nbformat_minor": 5
}
